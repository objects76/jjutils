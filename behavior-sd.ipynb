{
 "cells": [
  {
   "cell_type": "code",
   "execution_count": 1,
   "metadata": {},
   "outputs": [
    {
     "name": "stderr",
     "output_type": "stream",
     "text": [
      "Note: Environment variable`HF_TOKEN` is set and is the current active token independently from the token you've just configured.\n"
     ]
    }
   ],
   "source": [
    "%reload_ext autoreload\n",
    "%autoreload 2\n",
    "if '__file__' not in globals():\n",
    "    __file__, __name__ = globals()['__vsc_ipynb_file__'], '__ipynb__'\n",
    "    import types, sys; sys.modules['__ipynb__'] = types.ModuleType('__ipynb__')\n",
    "\n",
    "import sys, os\n",
    "if os.path.abspath('.') not in sys.path: sys.path.append(os.path.abspath('.'))\n",
    "\n",
    "import os, huggingface_hub # !pip install huggingface_hub[hf_transfer]\n",
    "huggingface_hub.login(token = os.environ.get('HF_TOKEN'), add_to_git_credential=True)\n",
    "\n",
    "from pathlib import Path\n",
    "from tqdm import tqdm\n",
    "from glob import glob\n",
    "import numpy as np; np.set_printoptions(precision=8, suppress=True); np.random.seed(42)\n",
    "\n",
    "class text_color:\n",
    "    def __init__(self, *attrs): self.clrs:set[int] = set(attrs) if hasattr(attrs, '__iter__') else {attrs} # type: ignore\n",
    "    def __ror__(self, obj): return f'\\33[{\";\".join(map(str, self.clrs))}m{str(obj)}\\33[0m'\n",
    "    @property\n",
    "    def fg(self):\n",
    "        return next((c for c in self.clrs if 90 <= c < 98), None) or self.bg+10\n",
    "    @property\n",
    "    def bg(self):\n",
    "        return next((c for c in self.clrs if 100 <= c < 108), None) or self.fg+10\n",
    "    @property\n",
    "    def attrs(self): return [c for c in self.clrs if c in (1,3,4,9) ]\n",
    "\n",
    "bold, italic, underline, strike = [1,3,4,9]\n",
    "black,red,green,yellow,blue,magenta,cyan,white = [text_color(clr) for clr in range(90,98)]\n",
    "\n",
    "import inspect\n",
    "class cout:\n",
    "    def __ror__(self, obj): print(f'[{inspect.stack()[1].lineno}]', obj)\n",
    "    def __call__(self, *args, **kwds): print(f'[{inspect.stack()[1].lineno}]', *args, **kwds)\n",
    "out = cout()"
   ]
  },
  {
   "cell_type": "code",
   "execution_count": 3,
   "metadata": {},
   "outputs": [
    {
     "name": "stderr",
     "output_type": "stream",
     "text": [
      "/home/jjkim/anaconda3/envs/wespk311/lib/python3.11/site-packages/huggingface_hub/file_download.py:795: FutureWarning: `resume_download` is deprecated and will be removed in version 1.0.0. Downloads always resume when possible. If you want to force a new download, use `force_download=True`.\n",
      "  warnings.warn(\n"
     ]
    },
    {
     "data": {
      "application/vnd.jupyter.widget-view+json": {
       "model_id": "8abfc8573ead47778ef7803d5bce8b02",
       "version_major": 2,
       "version_minor": 0
      },
      "text/plain": [
       "0000.tar:   0%|          | 0.00/869M [00:00<?, ?B/s]"
      ]
     },
     "metadata": {},
     "output_type": "display_data"
    },
    {
     "data": {
      "application/vnd.jupyter.widget-view+json": {
       "model_id": "7bff134e20e04196bcd69272bd099e38",
       "version_major": 2,
       "version_minor": 0
      },
      "text/plain": [
       "0001.tar:   0%|          | 0.00/758M [00:00<?, ?B/s]"
      ]
     },
     "metadata": {},
     "output_type": "display_data"
    },
    {
     "data": {
      "text/plain": [
       "'/home/jjkim/Desktop/work/Diarization/wsdiar_ws/dataset/behavior-sd'"
      ]
     },
     "execution_count": 3,
     "metadata": {},
     "output_type": "execute_result"
    }
   ],
   "source": [
    "from huggingface_hub import snapshot_download\n",
    "\n",
    "# Download only the 'test' folder\n",
    "snapshot_download(\n",
    "    repo_id=\"yhytoto12/behavior-sd\",\n",
    "    repo_type=\"dataset\",\n",
    "    allow_patterns=\"validation/*\",  # Only files inside the 'test' directory\n",
    "    local_dir=\"dataset/behavior-sd\",\n",
    "    resume_download=True,\n",
    "    # cache_dir=\"./hf_cache\",\n",
    ")\n",
    "\n"
   ]
  }
 ],
 "metadata": {
  "kernelspec": {
   "display_name": "wespk311",
   "language": "python",
   "name": "python3"
  },
  "language_info": {
   "codemirror_mode": {
    "name": "ipython",
    "version": 3
   },
   "file_extension": ".py",
   "mimetype": "text/x-python",
   "name": "python",
   "nbconvert_exporter": "python",
   "pygments_lexer": "ipython3",
   "version": "3.11.11"
  }
 },
 "nbformat": 4,
 "nbformat_minor": 2
}
